{
  "nbformat": 4,
  "nbformat_minor": 0,
  "metadata": {
    "colab": {
      "name": "online_script.ipynb",
      "provenance": [],
      "authorship_tag": "ABX9TyNYM0jaD1NRN0pG7kPD4crv",
      "include_colab_link": true
    },
    "kernelspec": {
      "name": "python3",
      "display_name": "Python 3"
    }
  },
  "cells": [
    {
      "cell_type": "markdown",
      "metadata": {
        "id": "view-in-github",
        "colab_type": "text"
      },
      "source": [
        "<a href=\"https://colab.research.google.com/github/Coonlee/three_sigma/blob/master/online_script.ipynb\" target=\"_parent\"><img src=\"https://colab.research.google.com/assets/colab-badge.svg\" alt=\"Open In Colab\"/></a>"
      ]
    },
    {
      "cell_type": "code",
      "metadata": {
        "id": "5Zo5v5_oB6gl",
        "colab_type": "code",
        "colab": {}
      },
      "source": [
        "import numpy as np\n",
        "import pandas as pd"
      ],
      "execution_count": null,
      "outputs": []
    },
    {
      "cell_type": "code",
      "metadata": {
        "id": "4Lgke3XhC_BD",
        "colab_type": "code",
        "colab": {}
      },
      "source": [
        "NumOfExp = 10\n",
        "NumOfDay = 20\n",
        "LearningRate = 0.0001\n",
        "TransCostRate = 0.003\n",
        "# Assume return matrix is an nxT matrix. Each entry is log(return) and each column\n",
        "# being list of log return on day t for n different stocks\n",
        "return_matrix = np.random.normal(size=[NumOfExp, NumOfDay])\n",
        "# Weight is stored as a column vector of size n where n is the number of experts\n",
        "weight_storage = np.zeros((NumOfExp, NumOfDay))\n",
        "aggressive_weight_storage = np.zeros((NumOfExp, NumOfDay))\n",
        "weight = np.array([1 / NumOfExp] * NumOfExp)"
      ],
      "execution_count": null,
      "outputs": []
    },
    {
      "cell_type": "code",
      "metadata": {
        "id": "kd5XjtEiC_KI",
        "colab_type": "code",
        "colab": {}
      },
      "source": [
        "for i in range(NumOfDay):\n",
        "    #Traditional\n",
        "    delta_vector = 1+LearningRate*return_matrix[:, i]\n",
        "    adjust_vector = weight * delta_vector\n",
        "    weight =  adjust_vector/(np.sum(adjust_vector))\n",
        "    weight_storage[:,i] = weight[:]\n",
        "    #Aggressive\n",
        "    sum_log_return = np.sum(return_matrix[:,:i], axis=1)\n",
        "    fractional_weight = weight*np.exp(sum_log_return)\n",
        "    normalize_frac_weight = fractional_weight/np.sum(fractional_weight)\n",
        "    aggressive_weight_storage[:,i] = normalize_frac_weight[:]\n",
        "\n",
        "#pd.reset_option('display.float_format')\n",
        "desc_weight = pd.DataFrame(weight)\n",
        "\n",
        "# weight is the fraction of each expert on a time stamp\n",
        "# We need to run backtesting according to weight"
      ],
      "execution_count": 5,
      "outputs": []
    },
    {
      "cell_type": "code",
      "metadata": {
        "id": "AqwudsikW7Xt",
        "colab_type": "code",
        "colab": {
          "base_uri": "https://localhost:8080/",
          "height": 343
        },
        "outputId": "395110f6-c3ce-49a5-a3df-b40af172d187"
      },
      "source": [
        "desc_weight"
      ],
      "execution_count": 6,
      "outputs": [
        {
          "output_type": "execute_result",
          "data": {
            "text/html": [
              "<div>\n",
              "<style scoped>\n",
              "    .dataframe tbody tr th:only-of-type {\n",
              "        vertical-align: middle;\n",
              "    }\n",
              "\n",
              "    .dataframe tbody tr th {\n",
              "        vertical-align: top;\n",
              "    }\n",
              "\n",
              "    .dataframe thead th {\n",
              "        text-align: right;\n",
              "    }\n",
              "</style>\n",
              "<table border=\"1\" class=\"dataframe\">\n",
              "  <thead>\n",
              "    <tr style=\"text-align: right;\">\n",
              "      <th></th>\n",
              "      <th>0</th>\n",
              "    </tr>\n",
              "  </thead>\n",
              "  <tbody>\n",
              "    <tr>\n",
              "      <th>0</th>\n",
              "      <td>0.100117</td>\n",
              "    </tr>\n",
              "    <tr>\n",
              "      <th>1</th>\n",
              "      <td>0.100029</td>\n",
              "    </tr>\n",
              "    <tr>\n",
              "      <th>2</th>\n",
              "      <td>0.099931</td>\n",
              "    </tr>\n",
              "    <tr>\n",
              "      <th>3</th>\n",
              "      <td>0.100115</td>\n",
              "    </tr>\n",
              "    <tr>\n",
              "      <th>4</th>\n",
              "      <td>0.100022</td>\n",
              "    </tr>\n",
              "    <tr>\n",
              "      <th>5</th>\n",
              "      <td>0.100082</td>\n",
              "    </tr>\n",
              "    <tr>\n",
              "      <th>6</th>\n",
              "      <td>0.099904</td>\n",
              "    </tr>\n",
              "    <tr>\n",
              "      <th>7</th>\n",
              "      <td>0.099887</td>\n",
              "    </tr>\n",
              "    <tr>\n",
              "      <th>8</th>\n",
              "      <td>0.100015</td>\n",
              "    </tr>\n",
              "    <tr>\n",
              "      <th>9</th>\n",
              "      <td>0.099899</td>\n",
              "    </tr>\n",
              "  </tbody>\n",
              "</table>\n",
              "</div>"
            ],
            "text/plain": [
              "          0\n",
              "0  0.100117\n",
              "1  0.100029\n",
              "2  0.099931\n",
              "3  0.100115\n",
              "4  0.100022\n",
              "5  0.100082\n",
              "6  0.099904\n",
              "7  0.099887\n",
              "8  0.100015\n",
              "9  0.099899"
            ]
          },
          "metadata": {
            "tags": []
          },
          "execution_count": 6
        }
      ]
    }
  ]
}